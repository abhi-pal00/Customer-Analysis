{
 "cells": [
  {
   "cell_type": "code",
   "execution_count": 38,
   "metadata": {},
   "outputs": [],
   "source": [
    "import pandas as pd\n",
    "import numpy as np\n",
    "import datetime as dt\n",
    "\n",
    "import warnings\n",
    "warnings.filterwarnings(\"ignore\")\n",
    "\n",
    "import matplotlib.pyplot as plt\n",
    "import seaborn as sns\n",
    "\n",
    "pd.set_option(\"display.max_columns\", None)\n",
    "pd.set_option(\"display.max_rows\", 100)"
   ]
  },
  {
   "cell_type": "markdown",
   "metadata": {},
   "source": [
    "### Import data"
   ]
  },
  {
   "cell_type": "code",
   "execution_count": 40,
   "metadata": {},
   "outputs": [],
   "source": [
    "Order_Summary = pd.read_excel(r\"D:\\Data_Science\\Catalys_Assessment\\Catalys_Assessment.xlsx\", sheet_name=\"Order_Summary\")\n",
    "Facebook = pd.read_excel(r\"D:\\Data_Science\\Catalys_Assessment\\Catalys_Assessment.xlsx\", sheet_name=\"Facebook_Data\")\n",
    "Google = pd.read_excel(r\"D:\\Data_Science\\Catalys_Assessment\\Catalys_Assessment.xlsx\", sheet_name=\"Google_Data\")"
   ]
  },
  {
   "cell_type": "markdown",
   "metadata": {},
   "source": [
    "### Data Cleaning"
   ]
  },
  {
   "cell_type": "code",
   "execution_count": 44,
   "metadata": {},
   "outputs": [
    {
     "data": {
      "text/plain": [
       "(12253, 13)"
      ]
     },
     "execution_count": 44,
     "metadata": {},
     "output_type": "execute_result"
    }
   ],
   "source": [
    "## Data Shape\n",
    "Order_Summary.shape"
   ]
  },
  {
   "cell_type": "code",
   "execution_count": 45,
   "metadata": {},
   "outputs": [
    {
     "name": "stdout",
     "output_type": "stream",
     "text": [
      "<class 'pandas.core.frame.DataFrame'>\n",
      "RangeIndex: 12253 entries, 0 to 12252\n",
      "Data columns (total 13 columns):\n",
      " #   Column                 Non-Null Count  Dtype         \n",
      "---  ------                 --------------  -----         \n",
      " 0   month                  12253 non-null  datetime64[ns]\n",
      " 1   customer_type          12246 non-null  object        \n",
      " 2   customer_id            12253 non-null  int64         \n",
      " 3   customer_id.1          12253 non-null  object        \n",
      " 4   cancelled              12253 non-null  object        \n",
      " 5   order_id               12253 non-null  int64         \n",
      " 6   shipping_city          12252 non-null  object        \n",
      " 7   orders                 12253 non-null  int64         \n",
      " 8   total_sales            12253 non-null  float64       \n",
      " 9   average_order_value    12253 non-null  float64       \n",
      " 10  net_quantity           12253 non-null  int64         \n",
      " 11  ordered_item_quantity  12253 non-null  int64         \n",
      " 12  average_units_ordered  12253 non-null  int64         \n",
      "dtypes: datetime64[ns](1), float64(2), int64(6), object(4)\n",
      "memory usage: 1.2+ MB\n"
     ]
    }
   ],
   "source": [
    "## Column Types\n",
    "Order_Summary.info()"
   ]
  },
  {
   "cell_type": "code",
   "execution_count": 47,
   "metadata": {},
   "outputs": [
    {
     "data": {
      "text/html": [
       "<div>\n",
       "<style scoped>\n",
       "    .dataframe tbody tr th:only-of-type {\n",
       "        vertical-align: middle;\n",
       "    }\n",
       "\n",
       "    .dataframe tbody tr th {\n",
       "        vertical-align: top;\n",
       "    }\n",
       "\n",
       "    .dataframe thead th {\n",
       "        text-align: right;\n",
       "    }\n",
       "</style>\n",
       "<table border=\"1\" class=\"dataframe\">\n",
       "  <thead>\n",
       "    <tr style=\"text-align: right;\">\n",
       "      <th></th>\n",
       "      <th>count</th>\n",
       "      <th>mean</th>\n",
       "      <th>min</th>\n",
       "      <th>25%</th>\n",
       "      <th>50%</th>\n",
       "      <th>75%</th>\n",
       "      <th>max</th>\n",
       "      <th>std</th>\n",
       "    </tr>\n",
       "  </thead>\n",
       "  <tbody>\n",
       "    <tr>\n",
       "      <th>month</th>\n",
       "      <td>12253</td>\n",
       "      <td>2023-09-21 23:10:38.439565824</td>\n",
       "      <td>2023-01-01 00:00:00</td>\n",
       "      <td>2023-08-01 00:00:00</td>\n",
       "      <td>2023-10-01 00:00:00</td>\n",
       "      <td>2023-12-01 00:00:00</td>\n",
       "      <td>2024-03-01 00:00:00</td>\n",
       "      <td>NaN</td>\n",
       "    </tr>\n",
       "    <tr>\n",
       "      <th>customer_id</th>\n",
       "      <td>12253.0</td>\n",
       "      <td>6783707492773.729492</td>\n",
       "      <td>0.0</td>\n",
       "      <td>6684615082122.0</td>\n",
       "      <td>6736420569226.0</td>\n",
       "      <td>6925091143818.0</td>\n",
       "      <td>7155693158538.0</td>\n",
       "      <td>230577300284.111298</td>\n",
       "    </tr>\n",
       "    <tr>\n",
       "      <th>order_id</th>\n",
       "      <td>12253.0</td>\n",
       "      <td>5253440239764.195312</td>\n",
       "      <td>4953351520394.0</td>\n",
       "      <td>5174281601162.0</td>\n",
       "      <td>5230003617930.0</td>\n",
       "      <td>5358105034890.0</td>\n",
       "      <td>5459687997578.0</td>\n",
       "      <td>114860180063.859329</td>\n",
       "    </tr>\n",
       "    <tr>\n",
       "      <th>orders</th>\n",
       "      <td>12253.0</td>\n",
       "      <td>0.992165</td>\n",
       "      <td>0.0</td>\n",
       "      <td>1.0</td>\n",
       "      <td>1.0</td>\n",
       "      <td>1.0</td>\n",
       "      <td>1.0</td>\n",
       "      <td>0.088171</td>\n",
       "    </tr>\n",
       "    <tr>\n",
       "      <th>total_sales</th>\n",
       "      <td>12253.0</td>\n",
       "      <td>2012.177751</td>\n",
       "      <td>-5500.0</td>\n",
       "      <td>1260.0</td>\n",
       "      <td>2285.0</td>\n",
       "      <td>2400.0</td>\n",
       "      <td>14200.0</td>\n",
       "      <td>1215.21415</td>\n",
       "    </tr>\n",
       "    <tr>\n",
       "      <th>average_order_value</th>\n",
       "      <td>12253.0</td>\n",
       "      <td>2275.526757</td>\n",
       "      <td>0.0</td>\n",
       "      <td>1260.0</td>\n",
       "      <td>2300.0</td>\n",
       "      <td>2400.0</td>\n",
       "      <td>874000.0</td>\n",
       "      <td>7960.91022</td>\n",
       "    </tr>\n",
       "    <tr>\n",
       "      <th>net_quantity</th>\n",
       "      <td>12253.0</td>\n",
       "      <td>1.011181</td>\n",
       "      <td>-2.0</td>\n",
       "      <td>1.0</td>\n",
       "      <td>1.0</td>\n",
       "      <td>1.0</td>\n",
       "      <td>7.0</td>\n",
       "      <td>0.523327</td>\n",
       "    </tr>\n",
       "    <tr>\n",
       "      <th>ordered_item_quantity</th>\n",
       "      <td>12253.0</td>\n",
       "      <td>1.13915</td>\n",
       "      <td>0.0</td>\n",
       "      <td>1.0</td>\n",
       "      <td>1.0</td>\n",
       "      <td>1.0</td>\n",
       "      <td>380.0</td>\n",
       "      <td>3.449673</td>\n",
       "    </tr>\n",
       "    <tr>\n",
       "      <th>average_units_ordered</th>\n",
       "      <td>12253.0</td>\n",
       "      <td>1.13915</td>\n",
       "      <td>0.0</td>\n",
       "      <td>1.0</td>\n",
       "      <td>1.0</td>\n",
       "      <td>1.0</td>\n",
       "      <td>380.0</td>\n",
       "      <td>3.449673</td>\n",
       "    </tr>\n",
       "  </tbody>\n",
       "</table>\n",
       "</div>"
      ],
      "text/plain": [
       "                         count                           mean  \\\n",
       "month                    12253  2023-09-21 23:10:38.439565824   \n",
       "customer_id            12253.0           6783707492773.729492   \n",
       "order_id               12253.0           5253440239764.195312   \n",
       "orders                 12253.0                       0.992165   \n",
       "total_sales            12253.0                    2012.177751   \n",
       "average_order_value    12253.0                    2275.526757   \n",
       "net_quantity           12253.0                       1.011181   \n",
       "ordered_item_quantity  12253.0                        1.13915   \n",
       "average_units_ordered  12253.0                        1.13915   \n",
       "\n",
       "                                       min                  25%  \\\n",
       "month                  2023-01-01 00:00:00  2023-08-01 00:00:00   \n",
       "customer_id                            0.0      6684615082122.0   \n",
       "order_id                   4953351520394.0      5174281601162.0   \n",
       "orders                                 0.0                  1.0   \n",
       "total_sales                        -5500.0               1260.0   \n",
       "average_order_value                    0.0               1260.0   \n",
       "net_quantity                          -2.0                  1.0   \n",
       "ordered_item_quantity                  0.0                  1.0   \n",
       "average_units_ordered                  0.0                  1.0   \n",
       "\n",
       "                                       50%                  75%  \\\n",
       "month                  2023-10-01 00:00:00  2023-12-01 00:00:00   \n",
       "customer_id                6736420569226.0      6925091143818.0   \n",
       "order_id                   5230003617930.0      5358105034890.0   \n",
       "orders                                 1.0                  1.0   \n",
       "total_sales                         2285.0               2400.0   \n",
       "average_order_value                 2300.0               2400.0   \n",
       "net_quantity                           1.0                  1.0   \n",
       "ordered_item_quantity                  1.0                  1.0   \n",
       "average_units_ordered                  1.0                  1.0   \n",
       "\n",
       "                                       max                  std  \n",
       "month                  2024-03-01 00:00:00                  NaN  \n",
       "customer_id                7155693158538.0  230577300284.111298  \n",
       "order_id                   5459687997578.0  114860180063.859329  \n",
       "orders                                 1.0             0.088171  \n",
       "total_sales                        14200.0           1215.21415  \n",
       "average_order_value               874000.0           7960.91022  \n",
       "net_quantity                           7.0             0.523327  \n",
       "ordered_item_quantity                380.0             3.449673  \n",
       "average_units_ordered                380.0             3.449673  "
      ]
     },
     "execution_count": 47,
     "metadata": {},
     "output_type": "execute_result"
    }
   ],
   "source": [
    "## Data Summanry\n",
    "Order_Summary.describe().T"
   ]
  },
  {
   "cell_type": "code",
   "execution_count": 49,
   "metadata": {},
   "outputs": [
    {
     "data": {
      "text/plain": [
       "month                    0\n",
       "customer_type            7\n",
       "customer_id              0\n",
       "customer_id.1            0\n",
       "cancelled                0\n",
       "order_id                 0\n",
       "shipping_city            1\n",
       "orders                   0\n",
       "total_sales              0\n",
       "average_order_value      0\n",
       "net_quantity             0\n",
       "ordered_item_quantity    0\n",
       "average_units_ordered    0\n",
       "dtype: int64"
      ]
     },
     "execution_count": 49,
     "metadata": {},
     "output_type": "execute_result"
    }
   ],
   "source": [
    "## Null Values within the data\n",
    "Order_Summary.isnull().sum()"
   ]
  },
  {
   "cell_type": "code",
   "execution_count": null,
   "metadata": {},
   "outputs": [],
   "source": [
    "## Different Customer Types\n",
    "First_time = Order_Summary[(Order_Summary[\"customer_type\"] == 'First-time') & (Order_Summary[\"cancelled\"] == \"No\")]\n",
    "Returning = Order_Summary[(Order_Summary[\"customer_type\"] == 'Returning')]"
   ]
  },
  {
   "cell_type": "code",
   "execution_count": 53,
   "metadata": {},
   "outputs": [
    {
     "data": {
      "image/png": "[encoded data removed]",
      "text/plain": [
       "<Figure size 1600x400 with 1 Axes>"
      ]
     },
     "metadata": {},
     "output_type": "display_data"
    }
   ],
   "source": [
    "## New Customers and revenue generated bu them\n",
    "First_time_customers = First_time.groupby(by = [\"month\"], as_index=False).agg({\"customer_id\":\"nunique\", \"total_sales\":\"sum\"}).rename(columns={\"customer_id\":\"customers\"})\n",
    "fig, axs = plt.subplots(nrows = 1, ncols = 1, figsize = (16,4))\n",
    "sns.barplot(data = First_time_customers, x = \"month\", y = \"customers\", ax = axs)\n",
    "axs.tick_params(axis = 'x', rotation = 90)"
   ]
  },
  {
   "cell_type": "markdown",
   "metadata": {},
   "source": [
    "### Return on Ad Spend"
   ]
  },
  {
   "cell_type": "code",
   "execution_count": 56,
   "metadata": {},
   "outputs": [],
   "source": [
    "## Facebook Data Preprocessing\n",
    "Facebook[\"Month_new\"] = Facebook[\"Month\"].apply(lambda x:x.split()[0])\n",
    "Facebook[\"Month_new\"] = pd.to_datetime(Facebook[\"Month_new\"])"
   ]
  },
  {
   "cell_type": "code",
   "execution_count": 58,
   "metadata": {},
   "outputs": [],
   "source": [
    "## Orders resulting in revenue\n",
    "Order_Summary_NC = Order_Summary[Order_Summary[\"cancelled\"] == \"No\"]\n",
    "Order_Summary_NC = Order_Summary_NC.groupby(by = [\"month\"], as_index=False).agg({\"customer_id\":\"nunique\",\"total_sales\":\"sum\"}).rename(columns = {\"customer_id\":\"customers\"})"
   ]
  },
  {
   "cell_type": "code",
   "execution_count": 59,
   "metadata": {},
   "outputs": [],
   "source": [
    "## Facebook Spends and Revenue merge\n",
    "Order_Summary_NC = pd.merge(Order_Summary_NC, Facebook, left_on=[\"month\"], right_on=[\"Month_new\"])\n",
    "Order_Summary_NC = Order_Summary_NC[[\"month\", \"customers\", \"total_sales\",\"Amount spent (INR)\"]].rename(columns={\"Amount spent (INR)\":\"Facebook Spends\"})"
   ]
  },
  {
   "cell_type": "code",
   "execution_count": 60,
   "metadata": {},
   "outputs": [],
   "source": [
    "## Google Data Preprocessing\n",
    "Google[\"month_str\"] = Google[\"Month\"].astype(\"str\")\n",
    "Google[\"month_corr\"] = Google[\"month_str\"].str.replace(\"2024\", \"01\")\n",
    "Google[\"month_corr\"] = Google[\"month_corr\"].apply(lambda x : x[3:5]+'-' + x[:2]+ '-' + '20'+x[-2:])\n",
    "Google[\"Month\"] = pd.to_datetime(Google[\"month_corr\"])\n",
    "Google = Google[[\"Month\", \"Amount Spent\", \"Clicks\", \"Impression\"]]"
   ]
  },
  {
   "cell_type": "code",
   "execution_count": 61,
   "metadata": {},
   "outputs": [],
   "source": [
    "## Revenue and Google Merge\n",
    "Order_Summary_NC = pd.merge(Order_Summary_NC, Google, left_on = \"month\", right_on=\"Month\", how = \"left\")\n",
    "Order_Summary_NC = Order_Summary_NC[[\"month\", \"customers\", \"total_sales\",\"Facebook Spends\", \"Amount Spent\"]].rename(columns = {\"Amount Spent\":\"Google Spends\"})"
   ]
  },
  {
   "cell_type": "code",
   "execution_count": 62,
   "metadata": {},
   "outputs": [],
   "source": [
    "## Return on Ad Spends\n",
    "Order_Summary_NC[\"ROAS\"] = Order_Summary_NC[\"total_sales\"]/(Order_Summary_NC[\"Facebook Spends\"] + Order_Summary_NC[\"Google Spends\"])"
   ]
  },
  {
   "cell_type": "code",
   "execution_count": 63,
   "metadata": {},
   "outputs": [
    {
     "data": {
      "image/png": "[encoded data removed]",
      "text/plain": [
       "<Figure size 1600x400 with 1 Axes>"
      ]
     },
     "metadata": {},
     "output_type": "display_data"
    }
   ],
   "source": [
    "## Return on Ad Spends visualization\n",
    "fig, axs = plt.subplots(nrows = 1, ncols = 1, figsize = (16,4))\n",
    "sns.barplot(data = Order_Summary_NC, x = \"month\", y = \"ROAS\", ax = axs)\n",
    "axs.tick_params(axis = 'x', rotation = 90)"
   ]
  },
  {
   "cell_type": "markdown",
   "metadata": {},
   "source": [
    "### Customer Acquisition Cost"
   ]
  },
  {
   "cell_type": "code",
   "execution_count": 64,
   "metadata": {},
   "outputs": [],
   "source": [
    "## Cost of acquiring new customers\n",
    "First_time_CAC = pd.merge(First_time_customers, Facebook, left_on=[\"month\"], right_on=[\"Month_new\"])\n",
    "First_time_CAC = First_time_CAC[[\"month\", \"customers\", \"total_sales\",\"Amount spent (INR)\"]].rename(columns={\"Amount spent (INR)\":\"Facebook Spends\"})\n",
    "First_time_CAC = pd.merge(First_time_CAC, Google, left_on = \"month\", right_on=\"Month\", how = \"left\")\n",
    "First_time_CAC = First_time_CAC[[\"month\", \"customers\", \"total_sales\",\"Facebook Spends\", \"Amount Spent\"]].rename(columns = {\"Amount Spent\":\"Google Spends\"})"
   ]
  },
  {
   "cell_type": "code",
   "execution_count": 65,
   "metadata": {},
   "outputs": [],
   "source": [
    "First_time_CAC[\"CAC\"] = (First_time_CAC[\"Facebook Spends\"] + First_time_CAC[\"Google Spends\"])/First_time_CAC[\"customers\"]"
   ]
  },
  {
   "cell_type": "markdown",
   "metadata": {},
   "source": [
    "- Customer Acuisition Cost (CAC) has increased recently, due to which, business is not growing at good rate"
   ]
  },
  {
   "cell_type": "code",
   "execution_count": 67,
   "metadata": {},
   "outputs": [
    {
     "data": {
      "image/png": "[encoded data removed]",
      "text/plain": [
       "<Figure size 1600x400 with 1 Axes>"
      ]
     },
     "metadata": {},
     "output_type": "display_data"
    }
   ],
   "source": [
    "## Customer acquisition cost\n",
    "fig, axs = plt.subplots(nrows = 1, ncols = 1, figsize = (16,4))\n",
    "sns.barplot(data = First_time_CAC, x = \"month\", y = \"CAC\", ax = axs)\n",
    "axs.tick_params(axis = 'x', rotation = 90)"
   ]
  },
  {
   "cell_type": "markdown",
   "metadata": {},
   "source": [
    "### Cancelled Customers\n",
    "\n",
    "- High cancellation during the period of January for both the Repeating and New Customers"
   ]
  },
  {
   "cell_type": "code",
   "execution_count": 114,
   "metadata": {},
   "outputs": [],
   "source": [
    "## First Time Customers\n",
    "First_time_cancelled = Order_Summary[(Order_Summary[\"customer_type\"] == 'First-time') & (Order_Summary[\"cancelled\"] == \"Yes\")]\n",
    "cancelled_customers = First_time_cancelled.groupby(by = [\"month\",\"customer_type\"], as_index=False)[\"customer_id\"].nunique()\n",
    "\n",
    "## Returning Cancelled Customers\n",
    "Returning_Cancelled = Order_Summary[(Order_Summary[\"customer_type\"] == \"Returning\") & (Order_Summary[\"cancelled\"] == \"Yes\")]\n",
    "R_cancelled_cust = Returning_Cancelled.groupby(by = [\"month\", \"customer_type\"], as_index=False)[\"customer_id\"].nunique()"
   ]
  },
  {
   "cell_type": "code",
   "execution_count": 115,
   "metadata": {},
   "outputs": [],
   "source": [
    "cancelled_customers_ttl = pd.concat([cancelled_customers,R_cancelled_cust], axis = 0)"
   ]
  },
  {
   "cell_type": "markdown",
   "metadata": {},
   "source": [
    "### Customer Segementation based upon Recency, Frequency and Montetary"
   ]
  },
  {
   "cell_type": "code",
   "execution_count": 78,
   "metadata": {},
   "outputs": [],
   "source": [
    "## Last sale calculation\n",
    "Order_Summary_filtered = Order_Summary[Order_Summary[\"cancelled\"] == \"No\"][[\"month\", \"customer_type\", \"order_id\",\"customer_id\", \"total_sales\"]]\n",
    "Order_Summary_RFM = Order_Summary_filtered.groupby(by = [\"customer_id\"], as_index = False).agg({\"total_sales\":\"sum\", \"month\":\"max\", \"order_id\":\"nunique\"})\n",
    "Order_Summary_RFM[\"month_1\"] = (Order_Summary_RFM[\"month\"].max().year - Order_Summary_RFM[\"month\"].dt.year)*12 + (Order_Summary_RFM[\"month\"].max().month - Order_Summary_RFM[\"month\"].dt.month)\n",
    "Order_Summary_RFM[\"month_1\"] = -1*Order_Summary_RFM[\"month_1\"]"
   ]
  },
  {
   "cell_type": "code",
   "execution_count": 81,
   "metadata": {},
   "outputs": [],
   "source": [
    "Order_Summary_RFM = Order_Summary_RFM[[\"customer_id\", \"total_sales\", \"month_1\",\"order_id\"]]\n",
    "Order_Summary_RFM.rename(columns={\"order_id\":\"orders\", \"month_1\":\"Months\", \"total_sales\":\"sales\"}, inplace=True)"
   ]
  },
  {
   "cell_type": "code",
   "execution_count": 82,
   "metadata": {},
   "outputs": [
    {
     "data": {
      "text/html": [
       "<div>\n",
       "<style scoped>\n",
       "    .dataframe tbody tr th:only-of-type {\n",
       "        vertical-align: middle;\n",
       "    }\n",
       "\n",
       "    .dataframe tbody tr th {\n",
       "        vertical-align: top;\n",
       "    }\n",
       "\n",
       "    .dataframe thead th {\n",
       "        text-align: right;\n",
       "    }\n",
       "</style>\n",
       "<table border=\"1\" class=\"dataframe\">\n",
       "  <thead>\n",
       "    <tr style=\"text-align: right;\">\n",
       "      <th></th>\n",
       "      <th>sales</th>\n",
       "      <th>Months</th>\n",
       "      <th>orders</th>\n",
       "    </tr>\n",
       "  </thead>\n",
       "  <tbody>\n",
       "    <tr>\n",
       "      <th>0.2</th>\n",
       "      <td>1350.0</td>\n",
       "      <td>-8.0</td>\n",
       "      <td>1.0</td>\n",
       "    </tr>\n",
       "    <tr>\n",
       "      <th>0.4</th>\n",
       "      <td>2400.0</td>\n",
       "      <td>-6.0</td>\n",
       "      <td>1.0</td>\n",
       "    </tr>\n",
       "    <tr>\n",
       "      <th>0.6</th>\n",
       "      <td>2400.0</td>\n",
       "      <td>-4.0</td>\n",
       "      <td>1.0</td>\n",
       "    </tr>\n",
       "    <tr>\n",
       "      <th>0.8</th>\n",
       "      <td>4700.0</td>\n",
       "      <td>-2.0</td>\n",
       "      <td>2.0</td>\n",
       "    </tr>\n",
       "  </tbody>\n",
       "</table>\n",
       "</div>"
      ],
      "text/plain": [
       "      sales  Months  orders\n",
       "0.2  1350.0    -8.0     1.0\n",
       "0.4  2400.0    -6.0     1.0\n",
       "0.6  2400.0    -4.0     1.0\n",
       "0.8  4700.0    -2.0     2.0"
      ]
     },
     "execution_count": 82,
     "metadata": {},
     "output_type": "execute_result"
    }
   ],
   "source": [
    "RFM_Scores = Order_Summary_RFM[[\"sales\",\"Months\",\"orders\"]].quantile([0.2,0.4, 0.6,0.8])\n",
    "RFM_Scores"
   ]
  },
  {
   "cell_type": "code",
   "execution_count": 84,
   "metadata": {},
   "outputs": [],
   "source": [
    "def RFM_assign(tbl, RFM_Scores):\n",
    "    '''\n",
    "    tbl : table with information about customers\n",
    "    RFM_Scores : table with quartile ranges of variables\n",
    "    '''\n",
    "    for i in [\"sales\", \"Months\", \"orders\"]:\n",
    "        if i == \"sales\":\n",
    "            par = \"M\"\n",
    "        elif i == \"Months\":\n",
    "            par = \"F\"\n",
    "        elif i == \"orders\":\n",
    "            par = \"R\"\n",
    "        tbl.loc[tbl[i] > RFM_Scores.loc[0.8,i],par] = 5\n",
    "        tbl.loc[tbl[i] <= RFM_Scores.loc[0.8,i],par] = 4\n",
    "        tbl.loc[tbl[i] <= RFM_Scores.loc[0.6,i],par] = 3\n",
    "        tbl.loc[tbl[i] <= RFM_Scores.loc[0.4,i],par] = 2\n",
    "        tbl.loc[tbl[i] <= RFM_Scores.loc[0.2,i],par] = 1\n",
    "\n",
    "    return tbl\n",
    "Order_Summary_RFM = RFM_assign(Order_Summary_RFM, RFM_Scores=RFM_Scores)  "
   ]
  },
  {
   "cell_type": "code",
   "execution_count": null,
   "metadata": {},
   "outputs": [],
   "source": [
    "## RFM calculation\n",
    "Order_Summary_RFM[\"RFM\"] = Order_Summary_RFM[\"R\"] + Order_Summary_RFM[\"F\"] + Order_Summary_RFM[\"M\"]"
   ]
  },
  {
   "cell_type": "code",
   "execution_count": null,
   "metadata": {},
   "outputs": [],
   "source": [
    "## Segmentation to different groups\n",
    "Order_Summary_RFM.loc[Order_Summary_RFM[\"RFM\"] >= 13, \"Group\"] = \"Diamond\"\n",
    "Order_Summary_RFM.loc[Order_Summary_RFM[\"RFM\"] <= 13, \"Group\"] = \"Gold\"\n",
    "Order_Summary_RFM.loc[Order_Summary_RFM[\"RFM\"] <= 10, \"Group\"] = \"Silver\"\n",
    "Order_Summary_RFM.loc[Order_Summary_RFM[\"RFM\"] <= 5, \"Group\"] = \"Bronze\""
   ]
  },
  {
   "cell_type": "code",
   "execution_count": 116,
   "metadata": {},
   "outputs": [
    {
     "data": {
      "image/png": "[encoded data removed]",
      "text/plain": [
       "<Figure size 1600x400 with 1 Axes>"
      ]
     },
     "metadata": {},
     "output_type": "display_data"
    }
   ],
   "source": [
    "## Different group summary\n",
    "Customer_Type_summary = Order_Summary_RFM.groupby(by = [\"Group\"], as_index=False)[\"orders\"].count()\n",
    "fig, axs = plt.subplots(nrows =1 , ncols = 1, figsize = (16,4))\n",
    "sns.barplot(data = Customer_Type_summary, x = \"Group\", y = \"orders\")\n",
    "plt.show()"
   ]
  },
  {
   "cell_type": "code",
   "execution_count": null,
   "metadata": {},
   "outputs": [],
   "source": []
  }
 ],
 "metadata": {
  "kernelspec": {
   "display_name": "Python 3",
   "language": "python",
   "name": "python3"
  },
  "language_info": {
   "codemirror_mode": {
    "name": "ipython",
    "version": 3
   },
   "file_extension": ".py",
   "mimetype": "text/x-python",
   "name": "python",
   "nbconvert_exporter": "python",
   "pygments_lexer": "ipython3",
   "version": "3.12.3"
  }
 },
 "nbformat": 4,
 "nbformat_minor": 2
}
